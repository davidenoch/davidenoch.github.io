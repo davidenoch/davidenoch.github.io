{
 "cells": [
  {
   "cell_type": "code",
   "execution_count": 2,
   "id": "d0db7626-8bf5-48f1-b70e-0ef40f81f3c2",
   "metadata": {},
   "outputs": [
    {
     "ename": "FileNotFoundError",
     "evalue": "[Errno 2] No such file or directory: '../Data/chain_list.json'",
     "output_type": "error",
     "traceback": [
      "\u001b[0;31m---------------------------------------------------------------------------\u001b[0m",
      "\u001b[0;31mFileNotFoundError\u001b[0m                         Traceback (most recent call last)",
      "Cell \u001b[0;32mIn[2], line 2\u001b[0m\n\u001b[1;32m      1\u001b[0m \u001b[38;5;28;01mimport\u001b[39;00m \u001b[38;5;21;01mjson\u001b[39;00m\n\u001b[0;32m----> 2\u001b[0m \u001b[38;5;28;01mwith\u001b[39;00m \u001b[38;5;28;43mopen\u001b[39;49m\u001b[43m(\u001b[49m\u001b[38;5;124;43m'\u001b[39;49m\u001b[38;5;124;43m../Data/chain_list.json\u001b[39;49m\u001b[38;5;124;43m'\u001b[39;49m\u001b[43m,\u001b[49m\u001b[38;5;124;43m'\u001b[39;49m\u001b[38;5;124;43mr\u001b[39;49m\u001b[38;5;124;43m'\u001b[39;49m\u001b[43m)\u001b[49m \u001b[38;5;28;01mas\u001b[39;00m f:\n\u001b[1;32m      3\u001b[0m     chain_list \u001b[38;5;241m=\u001b[39m json\u001b[38;5;241m.\u001b[39mload(f)\n\u001b[1;32m      4\u001b[0m chain_list\n",
      "File \u001b[0;32m~/Library/Python/3.9/lib/python/site-packages/IPython/core/interactiveshell.py:310\u001b[0m, in \u001b[0;36m_modified_open\u001b[0;34m(file, *args, **kwargs)\u001b[0m\n\u001b[1;32m    303\u001b[0m \u001b[38;5;28;01mif\u001b[39;00m file \u001b[38;5;129;01min\u001b[39;00m {\u001b[38;5;241m0\u001b[39m, \u001b[38;5;241m1\u001b[39m, \u001b[38;5;241m2\u001b[39m}:\n\u001b[1;32m    304\u001b[0m     \u001b[38;5;28;01mraise\u001b[39;00m \u001b[38;5;167;01mValueError\u001b[39;00m(\n\u001b[1;32m    305\u001b[0m         \u001b[38;5;124mf\u001b[39m\u001b[38;5;124m\"\u001b[39m\u001b[38;5;124mIPython won\u001b[39m\u001b[38;5;124m'\u001b[39m\u001b[38;5;124mt let you open fd=\u001b[39m\u001b[38;5;132;01m{\u001b[39;00mfile\u001b[38;5;132;01m}\u001b[39;00m\u001b[38;5;124m by default \u001b[39m\u001b[38;5;124m\"\u001b[39m\n\u001b[1;32m    306\u001b[0m         \u001b[38;5;124m\"\u001b[39m\u001b[38;5;124mas it is likely to crash IPython. If you know what you are doing, \u001b[39m\u001b[38;5;124m\"\u001b[39m\n\u001b[1;32m    307\u001b[0m         \u001b[38;5;124m\"\u001b[39m\u001b[38;5;124myou can use builtins\u001b[39m\u001b[38;5;124m'\u001b[39m\u001b[38;5;124m open.\u001b[39m\u001b[38;5;124m\"\u001b[39m\n\u001b[1;32m    308\u001b[0m     )\n\u001b[0;32m--> 310\u001b[0m \u001b[38;5;28;01mreturn\u001b[39;00m \u001b[43mio_open\u001b[49m\u001b[43m(\u001b[49m\u001b[43mfile\u001b[49m\u001b[43m,\u001b[49m\u001b[43m \u001b[49m\u001b[38;5;241;43m*\u001b[39;49m\u001b[43margs\u001b[49m\u001b[43m,\u001b[49m\u001b[43m \u001b[49m\u001b[38;5;241;43m*\u001b[39;49m\u001b[38;5;241;43m*\u001b[39;49m\u001b[43mkwargs\u001b[49m\u001b[43m)\u001b[49m\n",
      "\u001b[0;31mFileNotFoundError\u001b[0m: [Errno 2] No such file or directory: '../Data/chain_list.json'"
     ]
    }
   ],
   "source": [
    "import json\n",
    "with open('../Data/chain_list.json','r') as f:\n",
    "    chain_list = json.load(f)\n",
    "chain_list\n"
   ]
  },
  {
   "cell_type": "code",
   "execution_count": 10,
   "id": "b3b161b9-24a0-40dd-9e25-161db5d3ab36",
   "metadata": {},
   "outputs": [
    {
     "name": "stdout",
     "output_type": "stream",
     "text": [
      "Running on local URL:  http://127.0.0.1:7864\n",
      "\n",
      "To create a public link, set `share=True` in `launch()`.\n"
     ]
    },
    {
     "data": {
      "text/html": [
       "<div><iframe src=\"http://127.0.0.1:7864/\" width=\"100%\" height=\"500\" allow=\"autoplay; camera; microphone; clipboard-read; clipboard-write;\" frameborder=\"0\" allowfullscreen></iframe></div>"
      ],
      "text/plain": [
       "<IPython.core.display.HTML object>"
      ]
     },
     "metadata": {},
     "output_type": "display_data"
    },
    {
     "data": {
      "text/plain": []
     },
     "execution_count": 10,
     "metadata": {},
     "output_type": "execute_result"
    }
   ],
   "source": [
    "import gradio as gr\n",
    "\n",
    "selected_chains = chain_list\n",
    "\n",
    "def select_chains(chains):\n",
    "    global selected_chains\n",
    "    selected_chains = chains\n",
    "    return chains\n",
    "\n",
    "def select_all():\n",
    "    global selected_chains\n",
    "    selected_chains = chain_list\n",
    "    return gr.update(value=chain_list)\n",
    "\n",
    "def deselect_all():\n",
    "    global selected_chains\n",
    "    selected_chains = []\n",
    "    return gr.update(value=[])\n",
    "\n",
    "with gr.Blocks() as iface:\n",
    "    checkbox_group = gr.CheckboxGroup(choices=chain_list, value=chain_list,label=\"Select Chains\")\n",
    "    select_all_button = gr.Button(\"Select All\")\n",
    "    deselect_all_button = gr.Button(\"Deselect All\")\n",
    "\n",
    "    select_all_button.click(select_all, outputs=checkbox_group)\n",
    "    deselect_all_button.click(deselect_all, outputs=checkbox_group)\n",
    "    checkbox_group.change(select_chains,  inputs=checkbox_group)\n",
    "\n",
    "iface.launch()"
   ]
  },
  {
   "cell_type": "code",
   "execution_count": 11,
   "id": "042b0319-9e75-48a6-997c-331ea92015f5",
   "metadata": {},
   "outputs": [
    {
     "data": {
      "application/vnd.jupyter.widget-view+json": {
       "model_id": "4e0f8da6a3144adcbbaf0d2bffa49972",
       "version_major": 2,
       "version_minor": 0
      },
      "text/plain": [
       "SelectMultiple(description='Chains', options=('Ethereum', 'Bitcoin', 'Polkadot', 'Solana', 'Cardano'), value=(…"
      ]
     },
     "metadata": {},
     "output_type": "display_data"
    },
    {
     "data": {
      "application/vnd.jupyter.widget-view+json": {
       "model_id": "746dce2f244e4061af90c9bba4a7fdd3",
       "version_major": 2,
       "version_minor": 0
      },
      "text/plain": [
       "Button(description='Select All', style=ButtonStyle())"
      ]
     },
     "metadata": {},
     "output_type": "display_data"
    },
    {
     "data": {
      "application/vnd.jupyter.widget-view+json": {
       "model_id": "c58f670b6b9d482da68184925347f2b7",
       "version_major": 2,
       "version_minor": 0
      },
      "text/plain": [
       "Button(description='Deselect All', style=ButtonStyle())"
      ]
     },
     "metadata": {},
     "output_type": "display_data"
    }
   ],
   "source": [
    "import ipywidgets as widgets\n",
    "from IPython.display import display\n",
    "\n",
    "chain_list = [\"Ethereum\", \"Bitcoin\", \"Polkadot\", \"Solana\", \"Cardano\"]\n",
    "\n",
    "# Create a multiselect widget\n",
    "multiselect = widgets.SelectMultiple(\n",
    "    options=chain_list,\n",
    "    description='Chains',\n",
    "    disabled=False\n",
    ")\n",
    "\n",
    "# Create buttons for \"Select All\" and \"Deselect All\"\n",
    "select_all_button = widgets.Button(description=\"Select All\")\n",
    "deselect_all_button = widgets.Button(description=\"Deselect All\")\n",
    "\n",
    "# Define the actions for the buttons\n",
    "def select_all(b):\n",
    "    multiselect.value = tuple(chain_list)\n",
    "\n",
    "def deselect_all(b):\n",
    "    multiselect.value = ()\n",
    "\n",
    "# Attach the actions to the buttons\n",
    "select_all_button.on_click(select_all)\n",
    "deselect_all_button.on_click(deselect_all)\n",
    "\n",
    "# Display the widgets\n",
    "display(multiselect, select_all_button, deselect_all_button)\n",
    "\n",
    "# Variable to store selected chains\n",
    "selected_chains = list(multiselect.value)\n",
    "\n",
    "# Update selected_chains when the selection changes\n",
    "def on_change(change):\n",
    "    global selected_chains\n",
    "    # Update selected_chains with the new value\n",
    "    selected_chains = list(change['new'])\n",
    "    print(\"Selected chains:\", selected_chains)\n",
    "\n",
    "# Observe changes in the multiselect widget's value\n",
    "multiselect.observe(on_change, names='value')\n",
    "\n",
    "# Example of observing multiple attributes\n",
    "def on_attribute_change(change):\n",
    "    print(f\"Attribute {change['name']} changed from {change['old']} to {change['new']}\")\n",
    "\n",
    "# Observe changes in 'value' and 'disabled' attributes\n",
    "multiselect.observe(on_attribute_change, names=['value', 'disabled'])"
   ]
  },
  {
   "cell_type": "code",
   "execution_count": null,
   "id": "6da84a96-6a85-4e2f-878c-89ce07825f2f",
   "metadata": {},
   "outputs": [],
   "source": []
  }
 ],
 "metadata": {
  "kernelspec": {
   "display_name": "Python 3 (ipykernel)",
   "language": "python",
   "name": "python3"
  },
  "language_info": {
   "codemirror_mode": {
    "name": "ipython",
    "version": 3
   },
   "file_extension": ".py",
   "mimetype": "text/x-python",
   "name": "python",
   "nbconvert_exporter": "python",
   "pygments_lexer": "ipython3",
   "version": "3.9.6"
  },
  "widgets": {
   "application/vnd.jupyter.widget-state+json": {
    "state": {},
    "version_major": 2,
    "version_minor": 0
   }
  }
 },
 "nbformat": 4,
 "nbformat_minor": 5
}
